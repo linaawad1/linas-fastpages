{
 "cells": [
  {
   "attachments": {},
   "cell_type": "markdown",
   "metadata": {},
   "source": [
    "#  Unit 2.4 My Own Database blog\n",
    "> recommend!\n",
    "- toc: true\n",
    "- image: /images/python.png\n",
    "- categories: []\n",
    "- type: ap\n",
    "- week: 26"
   ]
  },
  {
   "attachments": {},
   "cell_type": "markdown",
   "metadata": {},
   "source": [
    "## Imports and Flask Objects"
   ]
  },
  {
   "cell_type": "code",
   "execution_count": 49,
   "metadata": {},
   "outputs": [],
   "source": [
    "\"\"\"\n",
    "These imports define the key objects\n",
    "\"\"\"\n",
    "\n",
    "from flask import Flask\n",
    "from flask_sqlalchemy import SQLAlchemy\n",
    "\n",
    "\"\"\"\n",
    "These object and definitions are used throughout the Jupyter Notebook.\n",
    "\"\"\"\n",
    "\n",
    "# Setup of key Flask object (app)\n",
    "app = Flask(__name__)\n",
    "# Setup SQLAlchemy object and properties for the database (db)\n",
    "database = 'sqlite:///sqlite.db'  # path and filename of database\n",
    "app.config['SQLALCHEMY_TRACK_MODIFICATIONS'] = False\n",
    "app.config['SQLALCHEMY_DATABASE_URI'] = database\n",
    "app.config['SECRET_KEY'] = 'SECRET_KEY'\n",
    "db = SQLAlchemy()\n",
    "\n",
    "\n",
    "# This belongs in place where it runs once per project\n",
    "db.init_app(app)\n"
   ]
  },
  {
   "attachments": {},
   "cell_type": "markdown",
   "metadata": {},
   "source": [
    "## Model Definition"
   ]
  },
  {
   "cell_type": "code",
   "execution_count": 50,
   "metadata": {},
   "outputs": [],
   "source": [
    "\"\"\" database dependencies to support sqlite examples \"\"\"\n",
    "import datetime\n",
    "from datetime import datetime\n",
    "import json\n",
    "\n",
    "from sqlalchemy.exc import IntegrityError\n",
    "from werkzeug.security import generate_password_hash, check_password_hash\n",
    "\n",
    "\n",
    "''' Tutorial: https://www.sqlalchemy.org/library.html#tutorials, try to get into a Python shell and follow along '''\n",
    "\n",
    "# Define the User class to manage actions in the 'users' table\n",
    "# -- Object Relational Mapping (ORM) is the key concept of SQLAlchemy\n",
    "# -- a.) db.Model is like an inner layer of the onion in ORM\n",
    "# -- b.) User represents data we want to store, something that is built on db.Model\n",
    "# -- c.) SQLAlchemy ORM is layer on top of SQLAlchemy Core, then SQLAlchemy engine, SQL\n",
    "class Flavor(db.Model):\n",
    "    __tablename__ = 'flavor'  # table name is plural, class name is singular\n",
    "\n",
    "    # Define the User schema with \"vars\" from object\n",
    "    id = db.Column(db.Integer, primary_key=True)\n",
    "    _name = db.Column(db.String(255), unique=True, nullable=False)\n",
    "    _flavor = db.Column(db.String(255), unique=False, nullable=False)\n",
    "    _size = db.Column(db.String(255), unique=False, nullable=False)\n",
    "    _recommend = db.Column(db.String(255), unique=False, nullable=False)\n",
    "\n",
    "    # constructor of a User object, initializes the instance variables within object (self)\n",
    "    def __init__(self, name, flavor, size, recommend):\n",
    "        self._name = name    # variables with self prefix become part of the object, \n",
    "        self._flavor = flavor\n",
    "        self._size = size\n",
    "        self._recommend = recommend\n",
    "\n",
    "    # a name getter method, extracts name from object\n",
    "    @property\n",
    "    def name(self):\n",
    "        return self._name\n",
    "    \n",
    "    # a setter function, allows name to be updated after initial object creation\n",
    "    @name.setter\n",
    "    def name(self, name):\n",
    "        self._name = name\n",
    "    \n",
    "    # a getter method, extracts email from object\n",
    "    @property\n",
    "    def flavor(self):\n",
    "        return self._flavor\n",
    "    \n",
    "    # a setter function, allows name to be updated after initial object creation\n",
    "    @flavor.setter\n",
    "    def flavor(self, flavor):\n",
    "        self._flavor = flavor\n",
    "        \n",
    "    # check if uid parameter matches user id in object, return boolean\n",
    "    #def is_flavor(self, flavor):\n",
    "    #    return self._flavor == flavor\n",
    "    \n",
    "    @property\n",
    "    def size(self):\n",
    "        return self._size\n",
    "    \n",
    "    # a setter function, allows name to be updated after initial object creation\n",
    "    @size.setter\n",
    "    def size(self, size):\n",
    "        self._size = size\n",
    "\n",
    "    @property\n",
    "    def recommend(self):\n",
    "        return self._recommend\n",
    "    \n",
    "    # a setter function, allows name to be updated after initial object creation\n",
    "    @name.setter\n",
    "    def name(self, recommend):\n",
    "        self._recommend = recommend\n",
    "\n",
    "    # output content using str(object) in human readable form, uses getter\n",
    "    # output content using json dumps, this is ready for API response\n",
    "    def __str__(self):\n",
    "        return json.dumps(self.read())\n",
    "\n",
    "    # CRUD create/add a new record to the table\n",
    "    # returns self or None on error\n",
    "    def create(self):\n",
    "        try:\n",
    "            # creates a person object from User(db.Model) class, passes initializers\n",
    "            db.session.add(self)  # add prepares to persist person object to Users table\n",
    "            db.session.commit()  # SqlAlchemy \"unit of work pattern\" requires a manual commit\n",
    "            return self\n",
    "        except IntegrityError:\n",
    "            db.session.remove()\n",
    "            return None\n",
    "\n",
    "    # CRUD read converts self to dictionary\n",
    "    # returns dictionary\n",
    "    def read(self):\n",
    "        return {\n",
    "            \"id\": self.id,\n",
    "            \"name\": self.name,\n",
    "            \"flavor\": self.flavor,\n",
    "            \"size\": self.size,\n",
    "            \"recommend\": self.recommend,\n",
    "        }\n",
    "\n",
    "    # CRUD update: updates user name, password, phone\n",
    "    # returns self\n",
    "    def update(self, name=\"\", flavor=\"\", size=\"\", recommend=\"\"):\n",
    "        \"\"\"only updates values with length\"\"\"\n",
    "        if len(name) > 0:\n",
    "            self.name = name\n",
    "        if len(flavor) > 0:\n",
    "            self.flavor = flavor\n",
    "        if len(size) > 0:\n",
    "            self.size = size\n",
    "        if len(recommend) > 0:\n",
    "            self.recommend = recommend\n",
    "        db.session.commit()\n",
    "        return self\n",
    "\n",
    "    # CRUD delete: remove self\n",
    "    # None\n",
    "    def delete(self):\n",
    "        db.session.delete(self)\n",
    "        db.session.commit()\n",
    "        return None\n",
    "    "
   ]
  },
  {
   "attachments": {},
   "cell_type": "markdown",
   "metadata": {},
   "source": [
    "## Initial Data"
   ]
  },
  {
   "cell_type": "code",
   "execution_count": 54,
   "metadata": {},
   "outputs": [
    {
     "name": "stdout",
     "output_type": "stream",
     "text": [
      "Records exist name chocolate, or error.\n",
      "Records exist name vanilla, or error.\n",
      "Records exist name mint, or error.\n",
      "Records exist name mango, or error.\n",
      "Records exist name rocky road, or error.\n",
      "Records exist name coconut, or error.\n"
     ]
    }
   ],
   "source": [
    "\"\"\"Database Creation and Testing \"\"\"\n",
    "\n",
    "\n",
    "# Builds working data for testing\n",
    "def initFlavor():\n",
    "    with app.app_context():\n",
    "        \"\"\"Create database and tables\"\"\"\n",
    "        db.create_all()\n",
    "        \"\"\"Tester data for table\"\"\"\n",
    "        i1 = Flavor(name='Sherlock', flavor='chocolate', size='small', recommend='yes')\n",
    "        i2 = Flavor(name='Dude', flavor='vanilla', size='medium', recommend='yes')\n",
    "        i3 = Flavor(name='Bunny', flavor='mint', size='large', recommend='yes')\n",
    "        i4 = Flavor(name='Lion', flavor='mango', size='small', recommend='yes')\n",
    "        i5 = Flavor(name='Penguin', flavor='rocky road', size='medium', recommend='yes')\n",
    "        i6 = Flavor(name='Turtle', flavor='coconut', size='small', recommend='yes')\n",
    "\n",
    "\n",
    "        flavor = [i1, i2, i3, i4, i5, i6]\n",
    "\n",
    "        \"\"\"Builds sample user/note(s) data\"\"\"\n",
    "        for flavor in flavor:\n",
    "            try:\n",
    "                '''add flavor to table'''\n",
    "                object = flavor.create()\n",
    "                print(f\"Created new name {object.name}\")\n",
    "            except:  # error raised if object nit created\n",
    "                '''fails with bad or duplicate data'''\n",
    "                print(f\"Records exist name {flavor.flavor}, or error.\")\n",
    "                \n",
    "initFlavor()"
   ]
  },
  {
   "attachments": {},
   "cell_type": "markdown",
   "metadata": {},
   "source": [
    "## Check for given Credentials in users table in sqlite.db"
   ]
  },
  {
   "cell_type": "code",
   "execution_count": 55,
   "metadata": {},
   "outputs": [],
   "source": [
    "# SQLAlchemy extracts single user from database matching User ID\n",
    "def find_by_flavor(flavor):\n",
    "    with app.app_context():\n",
    "        flavor = Flavor.query.filter_by(_flavor=flavor).first()\n",
    "    return flavor # returns user object\n",
    "\n",
    "# Check credentials by finding user and verify password\n",
    "def check_credentials(flavor):\n",
    "    # query email and return user record\n",
    "    flavor = find_by_flavor(flavor)\n",
    "    if flavor == None:\n",
    "        return False\n",
    "    if (flavor.is_flavor(flavor)):\n",
    "        return True\n",
    "    return False\n",
    "        \n",
    "#check_credentials(\"indi\", \"123qwerty\")"
   ]
  },
  {
   "attachments": {},
   "cell_type": "markdown",
   "metadata": {},
   "source": [
    "## Create a new User in table in Sqlite.db"
   ]
  },
  {
   "cell_type": "code",
   "execution_count": 56,
   "metadata": {},
   "outputs": [
    {
     "name": "stdout",
     "output_type": "stream",
     "text": [
      "Created\n",
      " Kirk\n"
     ]
    }
   ],
   "source": [
    "# Inputs, Try/Except, and SQLAlchemy work together to build a valid database object\n",
    "def create():\n",
    "    flavor = input(\"Enter your flavor:\")\n",
    "    #flavor = find_by_flavor(flavor)\n",
    "    #try:\n",
    "    #    print(\"Found\\n\", flavor.read())\n",
    "    #    return\n",
    "    #except:\n",
    "    #    pass # keep going\n",
    "    \n",
    "    # request value that ensure creating valid object\n",
    "    name = input(\"Enter your name:\")\n",
    "    size = input(\"Enter your size:\")\n",
    "    recommend = input(\"Do you recommend this?\")\n",
    "    # password = input(\"Enter your password\")\n",
    "    \n",
    "    # Initialize User object before date\n",
    "    flavor = Flavor(name=name, \n",
    "                flavor=flavor, \n",
    "                size=size,\n",
    "                recommend=recommend\n",
    "                )\n",
    "    \n",
    "    # write object to database\n",
    "    with app.app_context():\n",
    "        try:\n",
    "            object = flavor.create()\n",
    "            print(\"Created\\n\", object.name)\n",
    "        except:  # error raised if object not created\n",
    "            print(\"Unknown error name {name}\")\n",
    "        \n",
    "create()"
   ]
  },
  {
   "attachments": {},
   "cell_type": "markdown",
   "metadata": {},
   "source": [
    "## Reading users table in sqlite.db"
   ]
  },
  {
   "cell_type": "code",
   "execution_count": 57,
   "metadata": {},
   "outputs": [
    {
     "data": {
      "text/plain": [
       "[{'id': 1,\n",
       "  'name': 'Sherlock',\n",
       "  'flavor': 'chocolate',\n",
       "  'size': 'small',\n",
       "  'recommend': 'yes'},\n",
       " {'id': 2,\n",
       "  'name': 'Dude',\n",
       "  'flavor': 'vanilla',\n",
       "  'size': 'medium',\n",
       "  'recommend': 'yes'},\n",
       " {'id': 3,\n",
       "  'name': 'Bunny',\n",
       "  'flavor': 'mint',\n",
       "  'size': 'large',\n",
       "  'recommend': 'yes'},\n",
       " {'id': 4,\n",
       "  'name': 'Lion',\n",
       "  'flavor': 'mango',\n",
       "  'size': 'small',\n",
       "  'recommend': 'yes'},\n",
       " {'id': 5,\n",
       "  'name': 'Penguin',\n",
       "  'flavor': 'rocky road',\n",
       "  'size': 'medium',\n",
       "  'recommend': 'yes'},\n",
       " {'id': 6,\n",
       "  'name': 'Turtle',\n",
       "  'flavor': 'coconut',\n",
       "  'size': 'small',\n",
       "  'recommend': 'yes'},\n",
       " {'id': 7, 'name': '', 'flavor': '', 'size': '', 'recommend': ''},\n",
       " {'id': 8,\n",
       "  'name': 'Kirk',\n",
       "  'flavor': 'oreo',\n",
       "  'size': 'small',\n",
       "  'recommend': 'no'}]"
      ]
     },
     "execution_count": 57,
     "metadata": {},
     "output_type": "execute_result"
    }
   ],
   "source": [
    "def read():\n",
    "    with app.app_context():\n",
    "        table = Flavor.query.all()\n",
    "    json_ready = [flavor.read() for flavor in table] # \"List Comprehensions\", for each user add user.read() to list\n",
    "    return json_ready\n",
    "\n",
    "read()"
   ]
  },
  {
   "attachments": {},
   "cell_type": "markdown",
   "metadata": {},
   "source": [
    "## Update"
   ]
  },
  {
   "cell_type": "code",
   "execution_count": 58,
   "metadata": {},
   "outputs": [
    {
     "name": "stdout",
     "output_type": "stream",
     "text": [
      "The flavor, oreo, has been updated by Kirk, with the size smakk, and they said: yes they do recommend it.\n"
     ]
    }
   ],
   "source": [
    "def update():\n",
    "    # optimize user time to see if uid exists\n",
    "    flavor = input(\"Enter the flavor you tried and want to re-review\")\n",
    "    user = find_by_flavor(flavor)\n",
    "\n",
    "    if flavor is None:\n",
    "        print(f\"User {flavor} is not found :(\")\n",
    "        return\n",
    "\n",
    "    new_name = input(\"What is your name?\")\n",
    "    new_size = input(\"What size did you order?\")\n",
    "    new_recommend = input(\"Do you still recommend this product?\")\n",
    "\n",
    "    with app.app_context():\n",
    "        try:\n",
    "            user.update(new_name, new_size, new_recommend)\n",
    "            print(f\"The flavor, {flavor}, has been updated by {new_name}, with the size {new_size}, and they said: {new_recommend} they do recommend it.\")\n",
    "        except:\n",
    "            print(f\"There was an problem in updating the review, {flavor}\")\n",
    "        \n",
    "update()"
   ]
  },
  {
   "attachments": {},
   "cell_type": "markdown",
   "metadata": {},
   "source": [
    "## Delete"
   ]
  },
  {
   "cell_type": "code",
   "execution_count": 59,
   "metadata": {},
   "outputs": [
    {
     "name": "stdout",
     "output_type": "stream",
     "text": [
      "Flavor, oreo has been deleted.\n"
     ]
    }
   ],
   "source": [
    "def delete():\n",
    "    # optimize user time to see if uid exists\n",
    "    flavor = input(\"Enter the flavor you review:\")\n",
    "    user = find_by_flavor(flavor)\n",
    "\n",
    "    if user is None:\n",
    "        print(f\"Flavor, {flavor} is not found :(\")\n",
    "\n",
    "    with app.app_context():\n",
    "        try:\n",
    "            user.delete()\n",
    "            print(f\"Flavor, {flavor} has been deleted.\")\n",
    "        except:\n",
    "            print(\"Enter a flavor that already exists\")        \n",
    "delete()"
   ]
  },
  {
   "attachments": {},
   "cell_type": "markdown",
   "metadata": {},
   "source": [
    "### SQlite import"
   ]
  },
  {
   "cell_type": "code",
   "execution_count": 60,
   "metadata": {},
   "outputs": [],
   "source": [
    "import sqlite3\n",
    "\n",
    "database = 'instance/sqlite.db' # this is location of database\n",
    "\n",
    "def schema():\n",
    "    \n",
    "    # Connect to the database file\n",
    "    conn = sqlite3.connect(database)\n",
    "\n",
    "    # Create a cursor object to execute SQL queries\n",
    "    cursor = conn.cursor()\n",
    "    \n",
    "    # Fetch results of Schema\n",
    "    results = cursor.execute(\"PRAGMA table_info('users')\").fetchall()\n",
    "\n",
    "    # Print the results\n",
    "    for row in results:\n",
    "        print(row)\n",
    "\n",
    "    # Close the database connection\n",
    "    conn.close()\n",
    "    \n",
    "schema()"
   ]
  },
  {
   "cell_type": "code",
   "execution_count": 61,
   "metadata": {},
   "outputs": [
    {
     "name": "stdout",
     "output_type": "stream",
     "text": [
      "(1, 'Sherlock', 'chocolate', 'small', 'yes')\n",
      "(2, 'Dude', 'vanilla', 'medium', 'yes')\n",
      "(3, 'Bunny', 'mint', 'large', 'yes')\n",
      "(4, 'Lion', 'mango', 'small', 'yes')\n",
      "(5, 'Penguin', 'rocky road', 'medium', 'yes')\n",
      "(6, 'Turtle', 'coconut', 'small', 'yes')\n",
      "(7, '', '', '', '')\n"
     ]
    }
   ],
   "source": [
    "import sqlite3\n",
    "\n",
    "def read():\n",
    "    # Connect to the database file\n",
    "    conn = sqlite3.connect(database)\n",
    "\n",
    "    # Create a cursor object to execute SQL queries\n",
    "    cursor = conn.cursor()\n",
    "    \n",
    "    # Execute a SELECT statement to retrieve data from a table\n",
    "    results = cursor.execute('SELECT * FROM flavor').fetchall()\n",
    "\n",
    "    # Print the results\n",
    "    if len(results) == 0:\n",
    "        print(\"Table is empty\")\n",
    "    else:\n",
    "        for row in results:\n",
    "            print(row)\n",
    "\n",
    "    # Close the cursor and connection objects\n",
    "    cursor.close()\n",
    "    conn.close()\n",
    "    \n",
    "read()"
   ]
  },
  {
   "attachments": {},
   "cell_type": "markdown",
   "metadata": {},
   "source": [
    "## Create"
   ]
  },
  {
   "cell_type": "code",
   "execution_count": 62,
   "metadata": {},
   "outputs": [],
   "source": [
    "import sqlite3\n",
    "\n",
    "database = 'instance/sqlite.db' # this is location of database\n",
    "\n",
    "def schema():\n",
    "    \n",
    "    # Connect to the database file\n",
    "    conn = sqlite3.connect(database)\n",
    "\n",
    "    # Create a cursor object to execute SQL queries\n",
    "    cursor = conn.cursor()\n",
    "    \n",
    "    # Fetch results of Schema\n",
    "    results = cursor.execute(\"PRAGMA table_info('users')\").fetchall()\n",
    "\n",
    "    # Print the results\n",
    "    for row in results:\n",
    "        print(row)\n",
    "\n",
    "    # Close the database connection\n",
    "    conn.close()\n",
    "    \n",
    "schema()"
   ]
  },
  {
   "cell_type": "code",
   "execution_count": 63,
   "metadata": {},
   "outputs": [
    {
     "name": "stdout",
     "output_type": "stream",
     "text": [
      "A new recipe record oreo has been created\n"
     ]
    }
   ],
   "source": [
    "import sqlite3\n",
    "\n",
    "def create():\n",
    "    flavor = input(\"Enter your flavor\")\n",
    "    #name = input(\"Enter your recipe name:\")\n",
    "    name = input(\"Enter your name:\")\n",
    "    size = input(\"Enter your size:\")\n",
    "    recommend = input(\"Do you recommend this flavor?\")\n",
    "    \n",
    "    # Connect to the database file\n",
    "    conn = sqlite3.connect(database)\n",
    "\n",
    "    # Create a cursor object to execute SQL commands\n",
    "    cursor = conn.cursor()\n",
    "\n",
    "    try:\n",
    "        # Execute an SQL command to insert data into a table\n",
    "        cursor.execute(\"INSERT INTO flavor (_flavor, _name, _size, _recommend) VALUES (?, ?, ?, ?)\", (flavor, name, size, recommend))\n",
    "        \n",
    "        # Commit the changes to the database\n",
    "        conn.commit()\n",
    "        print(f\"A new recipe record {flavor} has been created\")\n",
    "                \n",
    "    except sqlite3.Error as error:\n",
    "        print(\"Error while executing the INSERT:\", error)\n",
    "\n",
    "\n",
    "    # Close the cursor and connection objects\n",
    "    cursor.close()\n",
    "    conn.close()\n",
    "    \n",
    "create()"
   ]
  },
  {
   "cell_type": "code",
   "execution_count": 42,
   "metadata": {},
   "outputs": [
    {
     "name": "stdout",
     "output_type": "stream",
     "text": [
      "Error while executing the UPDATE: database is locked\n"
     ]
    }
   ],
   "source": [
    "# import sqlite3\n",
    "\n",
    "# def update():\n",
    "#     flavor = input(\"Enter flavor to update\")\n",
    "#     recommend = input(\"Do you still recommend it?\")\n",
    "#     # if len(comments) < 2:\n",
    "#     #     message = \"hacked\"\n",
    "#     #     comments = '-'\n",
    "#     # else:\n",
    "#     #     message = \"successfully updated\"\n",
    "\n",
    "\n",
    "#     # Connect to the database file\n",
    "#     conn = sqlite3.connect(database)\n",
    "\n",
    "#     # Create a cursor object to execute SQL commands\n",
    "#     cursor = conn.cursor()\n",
    "\n",
    "#     try:\n",
    "#         # Execute an SQL command to update data in a table\n",
    "#         cursor.execute(\"UPDATE flavor SET _recommend = ? WHERE _flavor = ?\", (recommend, flavor))\n",
    "#         if cursor.rowcount == 0:\n",
    "#             # The uid was not found in the table\n",
    "#             print(f\"Flavor, {flavor} was not found in the table\")\n",
    "#         else:\n",
    "#             print(f\"The row with flavor, {flavor} the comments has been {recommend}\")\n",
    "#             conn.commit()\n",
    "#     except sqlite3.Error as error:\n",
    "#         print(\"Error while executing the UPDATE:\", error)\n",
    "        \n",
    "    \n",
    "#     # Close the cursor and connection objects\n",
    "#     cursor.close()\n",
    "#     conn.close()\n",
    "    \n",
    "# update()"
   ]
  },
  {
   "cell_type": "code",
   "execution_count": 64,
   "metadata": {},
   "outputs": [
    {
     "name": "stdout",
     "output_type": "stream",
     "text": [
      "The row with flavor, oreo was successfully deleted\n"
     ]
    }
   ],
   "source": [
    "import sqlite3\n",
    "\n",
    "def delete():\n",
    "    flavor = input(\"Enter flavor to delete\")\n",
    "\n",
    "    # Connect to the database file\n",
    "    conn = sqlite3.connect(database)\n",
    "\n",
    "    # Create a cursor object to execute SQL commands\n",
    "    cursor = conn.cursor()\n",
    "    \n",
    "    try:\n",
    "        cursor.execute(\"DELETE FROM flavor WHERE _flavor = ?\", (flavor,))\n",
    "        if cursor.rowcount == 0:\n",
    "            # The uid was not found in the table\n",
    "            print(f\"No flavor {flavor} was found in the table\")\n",
    "        else:\n",
    "            # The uid was found in the table and the row was deleted\n",
    "            print(f\"The row with flavor, {flavor} was successfully deleted\")\n",
    "        conn.commit()\n",
    "    except sqlite3.Error as error:\n",
    "        print(\"Error while executing the DELETE:\", error)\n",
    "        \n",
    "    # Close the cursor and connection objects\n",
    "    cursor.close()\n",
    "    conn.close()\n",
    "    \n",
    "delete()"
   ]
  },
  {
   "cell_type": "code",
   "execution_count": 67,
   "metadata": {},
   "outputs": [
    {
     "name": "stdout",
     "output_type": "stream",
     "text": [
      "The row with flavor coconut the password has been no\n"
     ]
    }
   ],
   "source": [
    "import sqlite3\n",
    "\n",
    "def update():\n",
    "    flavor = input(\"Enter flavor\")\n",
    "    recommend = input(\"Enter recommendation\")\n",
    "    # if len(password) < 2:\n",
    "    #     message = \"hacked\"\n",
    "    #     password = 'gothackednewpassword123'\n",
    "    # else:\n",
    "    #     message = \"successfully updated\"\n",
    "\n",
    "    # Connect to the database file\n",
    "    conn = sqlite3.connect(database)\n",
    "\n",
    "    # Create a cursor object to execute SQL commands\n",
    "    cursor = conn.cursor()\n",
    "\n",
    "    try:\n",
    "        # Execute an SQL command to update data in a table\n",
    "        cursor.execute(\"UPDATE flavor SET _recommend = ? WHERE _flavor = ?\", (recommend, flavor))\n",
    "        if cursor.rowcount == 0:\n",
    "            # The uid was not found in the table\n",
    "            print(f\"No flavor {flavor} was not found in the table\")\n",
    "        else:\n",
    "            print(f\"The row with flavor {flavor} the password has been {recommend}\")\n",
    "            conn.commit()\n",
    "    except sqlite3.Error as error:\n",
    "        print(\"Error while executing the UPDATE:\", error)\n",
    "        \n",
    "    \n",
    "    # Close the cursor and connection objects\n",
    "    cursor.close()\n",
    "    conn.close()\n",
    "    \n",
    "update()"
   ]
  },
  {
   "attachments": {},
   "cell_type": "markdown",
   "metadata": {},
   "source": [
    "## CRUD menu"
   ]
  },
  {
   "cell_type": "code",
   "execution_count": 68,
   "metadata": {},
   "outputs": [
    {
     "name": "stdout",
     "output_type": "stream",
     "text": [
      "A new recipe record oreo has been created\n"
     ]
    }
   ],
   "source": [
    "def menu():\n",
    "    operation = input(\"Enter: (C)reate (R)ead (U)pdate or (D)elete or (S)chema\")\n",
    "    if operation.lower() == 'c':\n",
    "        create()\n",
    "    elif operation.lower() == 'r':\n",
    "        read()\n",
    "    elif operation.lower() == 'u':\n",
    "        update()\n",
    "    elif operation.lower() == 'd':\n",
    "        delete()\n",
    "    elif operation.lower() == 's':\n",
    "        schema()\n",
    "    elif len(operation)==0: # Escape Key\n",
    "        return\n",
    "    else:\n",
    "        print(\"Please enter c, r, u, or d\") \n",
    "    menu() # recursion, repeat menu\n",
    "        \n",
    "try:\n",
    "    menu() # start menu\n",
    "except:\n",
    "    print(\"Perform Jupyter 'Run All' prior to starting menu\")\n",
    "\n",
    "#tested R"
   ]
  }
 ],
 "metadata": {
  "kernelspec": {
   "display_name": "base",
   "language": "python",
   "name": "python3"
  },
  "language_info": {
   "codemirror_mode": {
    "name": "ipython",
    "version": 3
   },
   "file_extension": ".py",
   "mimetype": "text/x-python",
   "name": "python",
   "nbconvert_exporter": "python",
   "pygments_lexer": "ipython3",
   "version": "3.9.12"
  },
  "orig_nbformat": 4,
  "vscode": {
   "interpreter": {
    "hash": "03d25e3ce0f17dc187e6a71ac691d083cca7e9ced5aa2c628ff2d42cfe5bda25"
   }
  }
 },
 "nbformat": 4,
 "nbformat_minor": 2
}
