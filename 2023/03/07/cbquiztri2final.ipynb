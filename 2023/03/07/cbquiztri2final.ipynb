{
 "cells": [
  {
   "cell_type": "markdown",
   "metadata": {},
   "source": [
    "---\n",
    "description: Blog Time\n",
    "title: Final Quiz Blog\n",
    "toc: true \n",
    "layout: base\n",
    "badges: true\n",
    "categories: [Final]\n",
    "layout: notebook\n",
    "---"
   ]
  },
  {
   "attachments": {},
   "cell_type": "markdown",
   "metadata": {},
   "source": [
    "### Question Review\n",
    "\n",
    "Final Score = 39/50"
   ]
  },
  {
   "attachments": {},
   "cell_type": "markdown",
   "metadata": {},
   "source": [
    "### Question 14\n",
    "\n",
    "![](/linas-fastpages/images/28.png)\n",
    "\n",
    "- My Answer: A\n",
    "\n",
    "# Why did I choose this?\n",
    "- I was not aware what freeware and shareware exactly were so I did.\n",
    "\n",
    "# Why was it wrong?\n",
    "- The answer I chose would overprice the customer. This basically means that even though the price is different for every unit above 25, the original 25 units should not be charged 7, they should be charged 5.\n",
    "\n",
    "- Right Answer: C\n",
    "\n",
    "# Why?\n",
    "- If the number of units of electricity used is 25 or less, the cost is 5 times the number of units. When the customer buys 35 units they wouldn't pay 7 for all 35. They would by 35-25=10 units that were 7 and the 25 that are 5."
   ]
  },
  {
   "attachments": {},
   "cell_type": "markdown",
   "metadata": {},
   "source": [
    "### Question 22\n",
    "\n",
    "![](/linas-fastpages/images/28.png)\n",
    "\n",
    "- My Answer: A\n",
    "\n",
    "# Why did I choose this?\n",
    "- I chose A because I thought that since it had separate conditions for under 25 and over 25, they are simply multiplied by either 5 or 7.\n",
    "\n",
    "# Why was it wrong?\n",
    "- The answer I chose would overprice the customer. This basically means that even though the price is different for every unit above 25, the original 25 units should not be charged 7, they should be charged 5.\n",
    "\n",
    "- Right Answer: C\n",
    "\n",
    "# Why?\n",
    "- If the number of units of electricity used is 25 or less, the cost is 5 times the number of units. When the customer buys 35 units they wouldn't pay 7 for all 35. They would by 35-25=10 units that were 7 and the 25 that are 5."
   ]
  },
  {
   "attachments": {},
   "cell_type": "markdown",
   "metadata": {},
   "source": [
    "### Question 29\n",
    "\n",
    "![](/linas-fastpages/images/28.png)\n",
    "\n",
    "- My Answer: A\n",
    "\n",
    "# Why did I choose this?\n",
    "- I chose A because I thought that since it had separate conditions for under 25 and over 25, they are simply multiplied by either 5 or 7.\n",
    "\n",
    "# Why was it wrong?\n",
    "- The answer I chose would overprice the customer. This basically means that even though the price is different for every unit above 25, the original 25 units should not be charged 7, they should be charged 5.\n",
    "\n",
    "- Right Answer: C\n",
    "\n",
    "# Why?\n",
    "- If the number of units of electricity used is 25 or less, the cost is 5 times the number of units. When the customer buys 35 units they wouldn't pay 7 for all 35. They would by 35-25=10 units that were 7 and the 25 that are 5."
   ]
  },
  {
   "attachments": {},
   "cell_type": "markdown",
   "metadata": {},
   "source": [
    "### Question 31\n",
    "\n",
    "![](/linas-fastpages/images/28.png)\n",
    "\n",
    "- My Answer: A\n",
    "\n",
    "# Why did I choose this?\n",
    "- I chose A because I thought that since it had separate conditions for under 25 and over 25, they are simply multiplied by either 5 or 7.\n",
    "\n",
    "# Why was it wrong?\n",
    "- The answer I chose would overprice the customer. This basically means that even though the price is different for every unit above 25, the original 25 units should not be charged 7, they should be charged 5.\n",
    "\n",
    "- Right Answer: C\n",
    "\n",
    "# Why?\n",
    "- If the number of units of electricity used is 25 or less, the cost is 5 times the number of units. When the customer buys 35 units they wouldn't pay 7 for all 35. They would by 35-25=10 units that were 7 and the 25 that are 5."
   ]
  },
  {
   "attachments": {},
   "cell_type": "markdown",
   "metadata": {},
   "source": [
    "### Question 33\n",
    "\n",
    "![](/linas-fastpages/images/28.png)\n",
    "\n",
    "- My Answer: A\n",
    "\n",
    "# Why did I choose this?\n",
    "- I chose A because I thought that since it had separate conditions for under 25 and over 25, they are simply multiplied by either 5 or 7.\n",
    "\n",
    "# Why was it wrong?\n",
    "- The answer I chose would overprice the customer. This basically means that even though the price is different for every unit above 25, the original 25 units should not be charged 7, they should be charged 5.\n",
    "\n",
    "- Right Answer: C\n",
    "\n",
    "# Why?\n",
    "- If the number of units of electricity used is 25 or less, the cost is 5 times the number of units. When the customer buys 35 units they wouldn't pay 7 for all 35. They would by 35-25=10 units that were 7 and the 25 that are 5."
   ]
  },
  {
   "attachments": {},
   "cell_type": "markdown",
   "metadata": {},
   "source": [
    "### Question 34\n",
    "\n",
    "![](/linas-fastpages/images/28.png)\n",
    "\n",
    "- My Answer: A\n",
    "\n",
    "# Why did I choose this?\n",
    "- I chose A because I thought that since it had separate conditions for under 25 and over 25, they are simply multiplied by either 5 or 7.\n",
    "\n",
    "# Why was it wrong?\n",
    "- The answer I chose would overprice the customer. This basically means that even though the price is different for every unit above 25, the original 25 units should not be charged 7, they should be charged 5.\n",
    "\n",
    "- Right Answer: C\n",
    "\n",
    "# Why?\n",
    "- If the number of units of electricity used is 25 or less, the cost is 5 times the number of units. When the customer buys 35 units they wouldn't pay 7 for all 35. They would by 35-25=10 units that were 7 and the 25 that are 5."
   ]
  },
  {
   "attachments": {},
   "cell_type": "markdown",
   "metadata": {},
   "source": [
    "### Question 36\n",
    "\n",
    "![](/linas-fastpages/images/28.png)\n",
    "\n",
    "- My Answer: A\n",
    "\n",
    "# Why did I choose this?\n",
    "- I chose A because I thought that since it had separate conditions for under 25 and over 25, they are simply multiplied by either 5 or 7.\n",
    "\n",
    "# Why was it wrong?\n",
    "- The answer I chose would overprice the customer. This basically means that even though the price is different for every unit above 25, the original 25 units should not be charged 7, they should be charged 5.\n",
    "\n",
    "- Right Answer: C\n",
    "\n",
    "# Why?\n",
    "- If the number of units of electricity used is 25 or less, the cost is 5 times the number of units. When the customer buys 35 units they wouldn't pay 7 for all 35. They would by 35-25=10 units that were 7 and the 25 that are 5."
   ]
  },
  {
   "attachments": {},
   "cell_type": "markdown",
   "metadata": {},
   "source": [
    "### Question 40\n",
    "\n",
    "![](/linas-fastpages/images/28.png)\n",
    "\n",
    "- My Answer: A\n",
    "\n",
    "# Why did I choose this?\n",
    "- I chose A because I thought that since it had separate conditions for under 25 and over 25, they are simply multiplied by either 5 or 7.\n",
    "\n",
    "# Why was it wrong?\n",
    "- The answer I chose would overprice the customer. This basically means that even though the price is different for every unit above 25, the original 25 units should not be charged 7, they should be charged 5.\n",
    "\n",
    "- Right Answer: C\n",
    "\n",
    "# Why?\n",
    "- If the number of units of electricity used is 25 or less, the cost is 5 times the number of units. When the customer buys 35 units they wouldn't pay 7 for all 35. They would by 35-25=10 units that were 7 and the 25 that are 5."
   ]
  },
  {
   "attachments": {},
   "cell_type": "markdown",
   "metadata": {},
   "source": [
    "### Question 41\n",
    "\n",
    "![](/linas-fastpages/images/28.png)\n",
    "\n",
    "- My Answer: A\n",
    "\n",
    "# Why did I choose this?\n",
    "- I chose A because I thought that since it had separate conditions for under 25 and over 25, they are simply multiplied by either 5 or 7.\n",
    "\n",
    "# Why was it wrong?\n",
    "- The answer I chose would overprice the customer. This basically means that even though the price is different for every unit above 25, the original 25 units should not be charged 7, they should be charged 5.\n",
    "\n",
    "- Right Answer: C\n",
    "\n",
    "# Why?\n",
    "- If the number of units of electricity used is 25 or less, the cost is 5 times the number of units. When the customer buys 35 units they wouldn't pay 7 for all 35. They would by 35-25=10 units that were 7 and the 25 that are 5."
   ]
  },
  {
   "attachments": {},
   "cell_type": "markdown",
   "metadata": {},
   "source": [
    "### Question 45\n",
    "\n",
    "![](/linas-fastpages/images/28.png)\n",
    "\n",
    "- My Answer: A\n",
    "\n",
    "# Why did I choose this?\n",
    "- I chose A because I thought that since it had separate conditions for under 25 and over 25, they are simply multiplied by either 5 or 7.\n",
    "\n",
    "# Why was it wrong?\n",
    "- The answer I chose would overprice the customer. This basically means that even though the price is different for every unit above 25, the original 25 units should not be charged 7, they should be charged 5.\n",
    "\n",
    "- Right Answer: C\n",
    "\n",
    "# Why?\n",
    "- If the number of units of electricity used is 25 or less, the cost is 5 times the number of units. When the customer buys 35 units they wouldn't pay 7 for all 35. They would by 35-25=10 units that were 7 and the 25 that are 5."
   ]
  },
  {
   "attachments": {},
   "cell_type": "markdown",
   "metadata": {},
   "source": [
    "### Question 50\n",
    "\n",
    "![](/linas-fastpages/images/28.png)\n",
    "\n",
    "- My Answer: A\n",
    "\n",
    "# Why did I choose this?\n",
    "- I chose A because I thought that since it had separate conditions for under 25 and over 25, they are simply multiplied by either 5 or 7.\n",
    "\n",
    "# Why was it wrong?\n",
    "- The answer I chose would overprice the customer. This basically means that even though the price is different for every unit above 25, the original 25 units should not be charged 7, they should be charged 5.\n",
    "\n",
    "- Right Answer: C\n",
    "\n",
    "# Why?\n",
    "- If the number of units of electricity used is 25 or less, the cost is 5 times the number of units. When the customer buys 35 units they wouldn't pay 7 for all 35. They would by 35-25=10 units that were 7 and the 25 that are 5."
   ]
  }
 ],
 "metadata": {
  "kernelspec": {
   "display_name": "Python 3",
   "language": "python",
   "name": "python3"
  },
  "language_info": {
   "name": "python",
   "version": "3.8.9"
  },
  "orig_nbformat": 4,
  "vscode": {
   "interpreter": {
    "hash": "31f2aee4e71d21fbe5cf8b01ff0e069b9275f58929596ceb00d14d90e3e16cd6"
   }
  }
 },
 "nbformat": 4,
 "nbformat_minor": 2
}
